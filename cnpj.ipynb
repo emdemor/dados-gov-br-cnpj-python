{
 "cells": [
  {
   "cell_type": "markdown",
   "id": "c3cebcfb",
   "metadata": {},
   "source": [
    "# Data Science Notebook "
   ]
  },
  {
   "cell_type": "code",
   "execution_count": 1,
   "id": "5b650a02",
   "metadata": {},
   "outputs": [],
   "source": [
    "import os, sys\n",
    "import warnings\n",
    "import pandas as pd\n",
    "import numpy as np\n",
    "import matplotlib.pyplot as plt\n",
    "from IPython.display import display, HTML\n",
    "from sklearn import set_config\n",
    "from loguru import logger"
   ]
  },
  {
   "cell_type": "code",
   "execution_count": 2,
   "id": "e8540486",
   "metadata": {},
   "outputs": [],
   "source": [
    "# Turn off jedi\n",
    "%config IPCompleter.use_jedi=False\n",
    "\n",
    "# Set sklearn output to pandas\n",
    "set_config(transform_output = \"pandas\")\n",
    "\n",
    "workdir = os.path.dirname(os.getcwd())\n",
    "\n",
    "sys.path.append(workdir)\n",
    "\n",
    "pd.options.display.max_columns = None\n",
    "\n",
    "warnings.filterwarnings(\"ignore\")\n",
    "\n",
    "# display(\n",
    "#     HTML(\n",
    "#         \"\"\"\n",
    "#         <style>\n",
    "#         .container { width:100% !important; }\n",
    "#         </style>\n",
    "#         \"\"\"\n",
    "#     )\n",
    "# )"
   ]
  },
  {
   "cell_type": "code",
   "execution_count": 3,
   "id": "67417ac4-e1bf-47be-8e60-6329de9b1462",
   "metadata": {},
   "outputs": [
    {
     "name": "stderr",
     "output_type": "stream",
     "text": [
      "2023-02-10 11:25:15.250 | INFO     | __main__:<cell line: 15>:29 - Downloading zip from http://200.152.38.155/CNPJ/Empresas0.zip and persisting to datasets/raw/zip/Empresas/Empresas0.zip\n",
      "2023-02-10 11:29:19.906 | INFO     | __main__:<cell line: 15>:32 - Reading csv within datasets/raw/zip/Empresas/Empresas0.zip\n",
      "2023-02-10 11:29:36.512 | INFO     | __main__:<cell line: 15>:37 - Persisting dataframe to parquet format in datasets/raw/parquet/Empresas/Empresas0.parquet\n",
      "2023-02-10 11:29:44.926 | INFO     | __main__:<cell line: 15>:29 - Downloading zip from http://200.152.38.155/CNPJ/Empresas1.zip and persisting to datasets/raw/zip/Empresas/Empresas1.zip\n",
      "2023-02-10 11:31:09.670 | INFO     | __main__:<cell line: 15>:32 - Reading csv within datasets/raw/zip/Empresas/Empresas1.zip\n",
      "2023-02-10 11:31:16.053 | INFO     | __main__:<cell line: 15>:37 - Persisting dataframe to parquet format in datasets/raw/parquet/Empresas/Empresas1.parquet\n"
     ]
    }
   ],
   "source": [
    "import os\n",
    "from basix import files, parquet\n",
    "from src.data.load import get_links_by_types, download_file, extract_filename, extract_type, read_csv_within_zip\n",
    "from src.config import PATH_ZIP_DIRECTORY, PATH_PARQUET_DIRECTORY\n",
    "from src.data.load import add_date, get_current_timestamp\n",
    "\n",
    "update = True\n",
    "\n",
    "timestamp = get_current_timestamp()\n",
    "\n",
    "urls = get_links_by_types()\n",
    "\n",
    "database_type = 'Empresas'\n",
    "\n",
    "for database_type in urls:\n",
    "    logger.info(f\"################## {database_type}\")\n",
    "    \n",
    "    for url in urls[database_type][0:2]:\n",
    "        try:\n",
    "\n",
    "            filename = extract_filename(url)\n",
    "\n",
    "            logger.info(f\"---------------------- {filename.replace(\".zip\", \"\")}\")\n",
    "\n",
    "            zip_directory_path = os.path.join(PATH_ZIP_DIRECTORY, database_type)\n",
    "\n",
    "            zip_local_filepath = os.path.join(zip_directory_path, filename)\n",
    "\n",
    "            parquet_directory_path = os.path.join(PATH_PARQUET_DIRECTORY, database_type)\n",
    "\n",
    "            parquet_local_filepath = os.path.join(parquet_directory_path, filename.replace(\".zip\", \".parquet\"))\n",
    "\n",
    "            files.make_directory(zip_directory_path)\n",
    "\n",
    "            if update:\n",
    "                logger.info(f\"Downloading zip from {url} and persisting to {zip_local_filepath}\")\n",
    "                download_file(url, zip_local_filepath)\n",
    "\n",
    "            logger.info(f\"Reading csv within {zip_local_filepath}\")\n",
    "            df = read_csv_within_zip(zip_local_filepath)\n",
    "\n",
    "            df = df.pipe(add_date, timestamp = timestamp)\n",
    "\n",
    "            logger.info(f\"Persisting dataframe to parquet format in {parquet_local_filepath}\")\n",
    "            parquet.write(df, parquet_local_filepath, overwrite=True)\n",
    "\n",
    "        except Exception as err:\n",
    "            logger.error(err)"
   ]
  },
  {
   "cell_type": "code",
   "execution_count": 5,
   "id": "8a3c9bd6-7707-42a5-8ea4-2cab11979753",
   "metadata": {},
   "outputs": [],
   "source": [
    "df_2 = pd.read_parquet('datasets/raw/parquet/Empresas/')"
   ]
  },
  {
   "cell_type": "code",
   "execution_count": 6,
   "id": "a721fe1a-f6c7-44b6-b65d-2a05afe7b6ab",
   "metadata": {},
   "outputs": [
    {
     "data": {
      "text/plain": [
       "16385211"
      ]
     },
     "execution_count": 6,
     "metadata": {},
     "output_type": "execute_result"
    }
   ],
   "source": [
    "df_2"
   ]
  },
  {
   "cell_type": "code",
   "execution_count": 7,
   "id": "601b091a-e20d-4344-9920-723f76ac24e7",
   "metadata": {},
   "outputs": [
    {
     "data": {
      "text/plain": [
       "'data/raw/zip/Empresas/Empresas1.zip'"
      ]
     },
     "execution_count": 7,
     "metadata": {},
     "output_type": "execute_result"
    }
   ],
   "source": [
    "\n",
    "parquet_directory_path = os.path.join(PATH_PARQUET_DIRECTORY, database_type)\n",
    "\n",
    "parquet_local_filepath = os.path.join(zip_directory_path, filename)\n",
    "\n",
    "parquet_local_filepath"
   ]
  },
  {
   "cell_type": "code",
   "execution_count": null,
   "id": "a68f57c6-d24e-476e-8276-eef550211631",
   "metadata": {},
   "outputs": [],
   "source": []
  },
  {
   "cell_type": "code",
   "execution_count": 34,
   "id": "ea3c06aa-2ee8-4b5e-919c-54e51f457bb6",
   "metadata": {},
   "outputs": [],
   "source": [
    "from datetime import datetime\n",
    "def add_date(df: pd.DataFrame) -> pd.DataFrame:\n",
    "    \n",
    "    df[\"creation_date\"] = datetime.strftime(datetime.today(), \"%Y%m%d\")\n",
    "    \n",
    "    return df"
   ]
  },
  {
   "cell_type": "code",
   "execution_count": null,
   "id": "1afa5577-75fe-4951-81e5-e34e6d4ba419",
   "metadata": {},
   "outputs": [],
   "source": [
    "files.make_directory(zip_directory_path)"
   ]
  },
  {
   "cell_type": "code",
   "execution_count": 4,
   "id": "d8d86182-95e7-4922-83c1-8c223beb957f",
   "metadata": {},
   "outputs": [
    {
     "data": {
      "text/html": [
       "<div>\n",
       "<style scoped>\n",
       "    .dataframe tbody tr th:only-of-type {\n",
       "        vertical-align: middle;\n",
       "    }\n",
       "\n",
       "    .dataframe tbody tr th {\n",
       "        vertical-align: top;\n",
       "    }\n",
       "\n",
       "    .dataframe thead th {\n",
       "        text-align: right;\n",
       "    }\n",
       "</style>\n",
       "<table border=\"1\" class=\"dataframe\">\n",
       "  <thead>\n",
       "    <tr style=\"text-align: right;\">\n",
       "      <th></th>\n",
       "      <th>cnpj_base</th>\n",
       "      <th>razao_social</th>\n",
       "      <th>natureza_juridica</th>\n",
       "      <th>qualificacao</th>\n",
       "      <th>capital_social</th>\n",
       "      <th>porte_empresa</th>\n",
       "      <th>ente_federativo</th>\n",
       "    </tr>\n",
       "  </thead>\n",
       "  <tbody>\n",
       "    <tr>\n",
       "      <th>2802612</th>\n",
       "      <td>2891503</td>\n",
       "      <td>ASSOCIACAO MORADORES AGROVILA MONTE ALTO</td>\n",
       "      <td>3999</td>\n",
       "      <td>16</td>\n",
       "      <td>0,00</td>\n",
       "      <td>5.0</td>\n",
       "      <td>NaN</td>\n",
       "    </tr>\n",
       "    <tr>\n",
       "      <th>2813093</th>\n",
       "      <td>2902033</td>\n",
       "      <td>M RIBAS CONSULTORES ASSOCIADOS LTDA</td>\n",
       "      <td>2062</td>\n",
       "      <td>49</td>\n",
       "      <td>0,00</td>\n",
       "      <td>1.0</td>\n",
       "      <td>NaN</td>\n",
       "    </tr>\n",
       "    <tr>\n",
       "      <th>3822229</th>\n",
       "      <td>3942771</td>\n",
       "      <td>SHIRATORI E RODRIGUES BAZAR LTDA</td>\n",
       "      <td>2062</td>\n",
       "      <td>49</td>\n",
       "      <td>0,00</td>\n",
       "      <td>1.0</td>\n",
       "      <td>NaN</td>\n",
       "    </tr>\n",
       "  </tbody>\n",
       "</table>\n",
       "</div>"
      ],
      "text/plain": [
       "         cnpj_base                              razao_social  \\\n",
       "2802612    2891503  ASSOCIACAO MORADORES AGROVILA MONTE ALTO   \n",
       "2813093    2902033       M RIBAS CONSULTORES ASSOCIADOS LTDA   \n",
       "3822229    3942771          SHIRATORI E RODRIGUES BAZAR LTDA   \n",
       "\n",
       "         natureza_juridica  qualificacao capital_social  porte_empresa  \\\n",
       "2802612               3999            16           0,00            5.0   \n",
       "2813093               2062            49           0,00            1.0   \n",
       "3822229               2062            49           0,00            1.0   \n",
       "\n",
       "        ente_federativo  \n",
       "2802612             NaN  \n",
       "2813093             NaN  \n",
       "3822229             NaN  "
      ]
     },
     "execution_count": 4,
     "metadata": {},
     "output_type": "execute_result"
    }
   ],
   "source": [
    "df.sample(3)"
   ]
  },
  {
   "cell_type": "code",
   "execution_count": 5,
   "id": "0be243f8-0278-4da7-92ea-81df4c74a1d9",
   "metadata": {},
   "outputs": [],
   "source": [
    "import pandas as pd\n",
    "import zipfile\n",
    "\n",
    "zipfile_path = \n",
    "\n",
    "zf = zipfile.ZipFile('data/raw/Empresas0.zip') \n",
    "df = pd.read_csv(zf.open('intfile.csv'))"
   ]
  },
  {
   "cell_type": "code",
   "execution_count": 5,
   "id": "a72fbffe-6e3b-4c3c-a236-a5042d6db558",
   "metadata": {},
   "outputs": [
    {
     "data": {
      "text/plain": [
       "['cnpj_base',\n",
       " 'razao_social',\n",
       " 'natureza_juridica',\n",
       " 'qualificacao',\n",
       " 'capital_social',\n",
       " 'porte_empresa',\n",
       " 'ente_federativo']"
      ]
     },
     "execution_count": 5,
     "metadata": {},
     "output_type": "execute_result"
    }
   ],
   "source": [
    "from src.config import DATABASE_COLUMNS\n",
    "\n",
    "DATABASE_COLUMNS[database_type]"
   ]
  },
  {
   "cell_type": "code",
   "execution_count": 6,
   "id": "12774787-a29d-4c92-8208-5d6b30eb6281",
   "metadata": {},
   "outputs": [
    {
     "data": {
      "text/plain": [
       "'/home/eduardo/Documentos/Projetos/CNPJ'"
      ]
     },
     "execution_count": 6,
     "metadata": {},
     "output_type": "execute_result"
    }
   ],
   "source": [
    "%pwd"
   ]
  },
  {
   "cell_type": "code",
   "execution_count": 12,
   "id": "8034e516-69ce-48b6-8a3c-83c0e63c84c3",
   "metadata": {},
   "outputs": [],
   "source": [
    "import zipfile\n",
    "from src.config import DATABASE_COLUMNS\n",
    "\n",
    "def read_csv_within_zip(zip_filepath: str) -> pd.DataFrame:\n",
    "    \"\"\"\n",
    "    This function reads all csv files within a zip file and concatenates them into a single dataframe.\n",
    "    \n",
    "    Args:\n",
    "        zip_filepath (str): the file path to the zip file.\n",
    "\n",
    "    Returns:\n",
    "        pd.DataFrame: a dataframe containing the concatenated data from all csv files within the zip file.\n",
    "    \"\"\"\n",
    "\n",
    "    zf = zipfile.ZipFile(zip_filepath)\n",
    "\n",
    "    database_type = os.path.dirname(local_filepath).split(\"/\")[-1]\n",
    "\n",
    "    pdread_opts = dict(sep=\";\", encoding=\"latin-1\", header=None)\n",
    "\n",
    "    dataframe = pd.DataFrame()\n",
    "\n",
    "    for filename in zf.namelist():\n",
    "        try:\n",
    "            temp = pd.read_csv(zf.open(filename), **pdread_opts)\n",
    "            temp.columns = DATABASE_COLUMNS[database_type]\n",
    "            dataframe = pd.concat(\n",
    "                [\n",
    "                    dataframe,\n",
    "                    temp\n",
    "                ]\n",
    "            )\n",
    "\n",
    "        except Exception as err:\n",
    "            logger.warning(\n",
    "                f\"It was not possible to read the file {filename}\"\n",
    "                f\"within de zip file {local_filepath}\"\n",
    "            )\n",
    "            \n",
    "    return dataframe"
   ]
  },
  {
   "cell_type": "code",
   "execution_count": 15,
   "id": "89d5ee05-a4e2-4780-8919-f2f9df1cffd2",
   "metadata": {},
   "outputs": [
    {
     "data": {
      "text/plain": [
       "0           1.0\n",
       "1           1.0\n",
       "2           1.0\n",
       "3           1.0\n",
       "4           1.0\n",
       "           ... \n",
       "11890346    1.0\n",
       "11890347    1.0\n",
       "11890348    5.0\n",
       "11890349    1.0\n",
       "11890350    5.0\n",
       "Name: porte_empresa, Length: 11890351, dtype: float64"
      ]
     },
     "execution_count": 15,
     "metadata": {},
     "output_type": "execute_result"
    }
   ],
   "source": [
    "dataframe['porte_empresa']"
   ]
  },
  {
   "cell_type": "code",
   "execution_count": 12,
   "id": "1198fd49-b216-4bcd-9875-5bc4f14a6a8e",
   "metadata": {},
   "outputs": [
    {
     "data": {
      "text/html": [
       "<div>\n",
       "<style scoped>\n",
       "    .dataframe tbody tr th:only-of-type {\n",
       "        vertical-align: middle;\n",
       "    }\n",
       "\n",
       "    .dataframe tbody tr th {\n",
       "        vertical-align: top;\n",
       "    }\n",
       "\n",
       "    .dataframe thead th {\n",
       "        text-align: right;\n",
       "    }\n",
       "</style>\n",
       "<table border=\"1\" class=\"dataframe\">\n",
       "  <thead>\n",
       "    <tr style=\"text-align: right;\">\n",
       "      <th></th>\n",
       "      <th>0</th>\n",
       "      <th>1</th>\n",
       "      <th>2</th>\n",
       "      <th>3</th>\n",
       "      <th>4</th>\n",
       "      <th>5</th>\n",
       "      <th>6</th>\n",
       "    </tr>\n",
       "  </thead>\n",
       "  <tbody>\n",
       "    <tr>\n",
       "      <th>0</th>\n",
       "      <td>41273597</td>\n",
       "      <td>PACHARRUS QUEIROZ DA COSTA E SILVA 03618384335</td>\n",
       "      <td>2135</td>\n",
       "      <td>50</td>\n",
       "      <td>5000,00</td>\n",
       "      <td>1.0</td>\n",
       "      <td>NaN</td>\n",
       "    </tr>\n",
       "    <tr>\n",
       "      <th>1</th>\n",
       "      <td>41273598</td>\n",
       "      <td>GLORIA VIANA DIAS DA SILVA 13118961716</td>\n",
       "      <td>2135</td>\n",
       "      <td>50</td>\n",
       "      <td>1100,00</td>\n",
       "      <td>1.0</td>\n",
       "      <td>NaN</td>\n",
       "    </tr>\n",
       "    <tr>\n",
       "      <th>2</th>\n",
       "      <td>41273599</td>\n",
       "      <td>ANA PAULA DA SILVA DE PAULA 04659802957</td>\n",
       "      <td>2135</td>\n",
       "      <td>50</td>\n",
       "      <td>2000,00</td>\n",
       "      <td>1.0</td>\n",
       "      <td>NaN</td>\n",
       "    </tr>\n",
       "    <tr>\n",
       "      <th>3</th>\n",
       "      <td>41273600</td>\n",
       "      <td>AVANILSON BRUNO MATIAS DA SILVA 08778601495</td>\n",
       "      <td>2135</td>\n",
       "      <td>50</td>\n",
       "      <td>50000,00</td>\n",
       "      <td>1.0</td>\n",
       "      <td>NaN</td>\n",
       "    </tr>\n",
       "    <tr>\n",
       "      <th>4</th>\n",
       "      <td>41273601</td>\n",
       "      <td>GABRIELA HELENA FACINI DA SILVA 47022415838</td>\n",
       "      <td>2135</td>\n",
       "      <td>50</td>\n",
       "      <td>2000,00</td>\n",
       "      <td>1.0</td>\n",
       "      <td>NaN</td>\n",
       "    </tr>\n",
       "    <tr>\n",
       "      <th>...</th>\n",
       "      <td>...</td>\n",
       "      <td>...</td>\n",
       "      <td>...</td>\n",
       "      <td>...</td>\n",
       "      <td>...</td>\n",
       "      <td>...</td>\n",
       "      <td>...</td>\n",
       "    </tr>\n",
       "    <tr>\n",
       "      <th>11890346</th>\n",
       "      <td>98819550</td>\n",
       "      <td>ANTONIO ORIQUES CARDOSO</td>\n",
       "      <td>2135</td>\n",
       "      <td>50</td>\n",
       "      <td>0,00</td>\n",
       "      <td>1.0</td>\n",
       "      <td>NaN</td>\n",
       "    </tr>\n",
       "    <tr>\n",
       "      <th>11890347</th>\n",
       "      <td>98819568</td>\n",
       "      <td>ELI ORIQUES CARDOSO</td>\n",
       "      <td>2135</td>\n",
       "      <td>50</td>\n",
       "      <td>0,00</td>\n",
       "      <td>1.0</td>\n",
       "      <td>NaN</td>\n",
       "    </tr>\n",
       "    <tr>\n",
       "      <th>11890348</th>\n",
       "      <td>98819600</td>\n",
       "      <td>PAULINO LEMOS DA SILVA</td>\n",
       "      <td>2135</td>\n",
       "      <td>50</td>\n",
       "      <td>0,00</td>\n",
       "      <td>5.0</td>\n",
       "      <td>NaN</td>\n",
       "    </tr>\n",
       "    <tr>\n",
       "      <th>11890349</th>\n",
       "      <td>98819832</td>\n",
       "      <td>JOAO FELTRIN</td>\n",
       "      <td>2135</td>\n",
       "      <td>50</td>\n",
       "      <td>0,00</td>\n",
       "      <td>1.0</td>\n",
       "      <td>NaN</td>\n",
       "    </tr>\n",
       "    <tr>\n",
       "      <th>11890350</th>\n",
       "      <td>99017782</td>\n",
       "      <td>SOCIEDADE UNIAO DE ARTISTAS</td>\n",
       "      <td>3999</td>\n",
       "      <td>16</td>\n",
       "      <td>0,00</td>\n",
       "      <td>5.0</td>\n",
       "      <td>NaN</td>\n",
       "    </tr>\n",
       "  </tbody>\n",
       "</table>\n",
       "<p>11890351 rows × 7 columns</p>\n",
       "</div>"
      ],
      "text/plain": [
       "                 0                                               1     2   3  \\\n",
       "0         41273597  PACHARRUS QUEIROZ DA COSTA E SILVA 03618384335  2135  50   \n",
       "1         41273598          GLORIA VIANA DIAS DA SILVA 13118961716  2135  50   \n",
       "2         41273599         ANA PAULA DA SILVA DE PAULA 04659802957  2135  50   \n",
       "3         41273600     AVANILSON BRUNO MATIAS DA SILVA 08778601495  2135  50   \n",
       "4         41273601     GABRIELA HELENA FACINI DA SILVA 47022415838  2135  50   \n",
       "...            ...                                             ...   ...  ..   \n",
       "11890346  98819550                         ANTONIO ORIQUES CARDOSO  2135  50   \n",
       "11890347  98819568                             ELI ORIQUES CARDOSO  2135  50   \n",
       "11890348  98819600                          PAULINO LEMOS DA SILVA  2135  50   \n",
       "11890349  98819832                                    JOAO FELTRIN  2135  50   \n",
       "11890350  99017782                     SOCIEDADE UNIAO DE ARTISTAS  3999  16   \n",
       "\n",
       "                 4    5    6  \n",
       "0          5000,00  1.0  NaN  \n",
       "1          1100,00  1.0  NaN  \n",
       "2          2000,00  1.0  NaN  \n",
       "3         50000,00  1.0  NaN  \n",
       "4          2000,00  1.0  NaN  \n",
       "...            ...  ...  ...  \n",
       "11890346      0,00  1.0  NaN  \n",
       "11890347      0,00  1.0  NaN  \n",
       "11890348      0,00  5.0  NaN  \n",
       "11890349      0,00  1.0  NaN  \n",
       "11890350      0,00  5.0  NaN  \n",
       "\n",
       "[11890351 rows x 7 columns]"
      ]
     },
     "execution_count": 12,
     "metadata": {},
     "output_type": "execute_result"
    }
   ],
   "source": [
    "[\n",
    "    \"cnpj_base\", \n",
    "    \"razao_social\", \n",
    "    \"natureza_juridica\", \n",
    "    \"qualificacao\", \n",
    "    \"capital_social\", \n",
    "    \"porte_empresa\", \n",
    "    \"ente_federativo\"\n",
    "]"
   ]
  },
  {
   "cell_type": "code",
   "execution_count": 21,
   "id": "b717e199-7b3d-44b1-bb88-ec4fbf0fef08",
   "metadata": {},
   "outputs": [],
   "source": [
    "\n",
    "\n",
    "from bs4 import BeautifulSoup, SoupStrainer\n",
    "import requests\n",
    "\n",
    "\n",
    "def get_links():\n",
    "    page = requests.get(BASE_URL)    \n",
    "    data = page.text\n",
    "    soup = BeautifulSoup(data)\n",
    "\n",
    "    for link in soup.find_all('a'):\n",
    "        if str(link.get('href')).endswith('.zip'): \n",
    "            cam = link.get('href')\n",
    "            # if cam.startswith('http://http'):\n",
    "            #     cam = 'http://' + cam[len('http://http//'):] \n",
    "            if not cam.startswith('http'):\n",
    "                yield BASE_URL+cam\n",
    "            else:\n",
    "                yield cam"
   ]
  },
  {
   "cell_type": "code",
   "execution_count": 24,
   "id": "40f1b62f-24df-4ea1-86f1-1c083bad6855",
   "metadata": {},
   "outputs": [],
   "source": [
    "links = list(get_links())"
   ]
  },
  {
   "cell_type": "code",
   "execution_count": 13,
   "id": "8ddea697-b124-41c4-8516-61f94e52c9b0",
   "metadata": {},
   "outputs": [
    {
     "data": {
      "text/plain": [
       "{'Cnaes': None,\n",
       " 'Empresas': None,\n",
       " 'Estabelecimentos': None,\n",
       " 'Motivos': None,\n",
       " 'Municipios': None,\n",
       " 'Naturezas': None,\n",
       " 'Paises': None,\n",
       " 'Qualificacoes': None,\n",
       " 'Simples': None,\n",
       " 'Socios': None}"
      ]
     },
     "execution_count": 13,
     "metadata": {},
     "output_type": "execute_result"
    }
   ],
   "source": [
    "from src.config import DATABASE_TYPES\n",
    "\n",
    "{k: None for k in DATABASE_TYPES}"
   ]
  },
  {
   "cell_type": "code",
   "execution_count": null,
   "id": "34681040-c08d-441b-8532-78751241c897",
   "metadata": {},
   "outputs": [],
   "source": []
  },
  {
   "cell_type": "code",
   "execution_count": null,
   "id": "5da56a97-c123-47f8-bc28-d22d317e13d2",
   "metadata": {},
   "outputs": [],
   "source": []
  }
 ],
 "metadata": {
  "kernelspec": {
   "display_name": "Python 3 (ipykernel)",
   "language": "python",
   "name": "python3"
  },
  "language_info": {
   "codemirror_mode": {
    "name": "ipython",
    "version": 3
   },
   "file_extension": ".py",
   "mimetype": "text/x-python",
   "name": "python",
   "nbconvert_exporter": "python",
   "pygments_lexer": "ipython3",
   "version": "3.9.13"
  }
 },
 "nbformat": 4,
 "nbformat_minor": 5
}
